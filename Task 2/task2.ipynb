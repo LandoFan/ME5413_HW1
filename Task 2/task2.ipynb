{
 "cells": [
  {
   "cell_type": "markdown",
   "metadata": {},
   "source": [
    "LOAD DATA "
   ]
  },
  {
   "cell_type": "code",
   "execution_count": 1,
   "metadata": {},
   "outputs": [
    {
     "name": "stdout",
     "output_type": "stream",
     "text": [
      "False\n",
      "/home/lando/Homework1_Perception/Task 2\n",
      "False\n"
     ]
    }
   ],
   "source": [
    "import numpy as np\n",
    "import math\n",
    "import os\n",
    "import matplotlib.pyplot as plt\n",
    "data_path ='../data/Task 2/sample_1a2bc3012c9defca.npz' \n",
    "print(os.path.exists(data_path))\n",
    "# data_path ='../data/Task 2/sample_1a2bc3012c9defca.npz' \n",
    "print(os.getcwd())\n",
    "print(os.path.exists(data_path))"
   ]
  },
  {
   "cell_type": "markdown",
   "metadata": {},
   "source": []
  },
  {
   "cell_type": "code",
   "execution_count": 8,
   "metadata": {},
   "outputs": [
    {
     "name": "stdout",
     "output_type": "stream",
     "text": [
      "(24, 91, 10)\n"
     ]
    }
   ],
   "source": [
    "info = np.load(data_path,allow_pickle=True)\n",
    "all_agent_trajs        = info['all_agent']    \n",
    "all_agent_trajs.shape \n",
    "print(all_agent_trajs.shape) #[24 agents, 91 timesteps the interval between each timestep is 0.1 second,\\\n",
    "    #10 denotes [center_x, center_y, center_z, boundingbox_x, boundingbox_y, boundingbox_z, heading, vel_x, vel_y, valid] ]\n",
    "#the valid flag is either 0 or 1. 1 means the valid, 0 means invalid\n",
    "obj_types              = info['object_type']\n",
    "lane_polylines         = info['lane']           #  list of [n,7] array [x,y,z,ori_x,ori_y,ori_z,type]\n",
    "road_polylines         = info['road_polylines'] #  list of [n,7] array [x,y,z,ori_x,ori_y,ori_z,type]\n",
    "crosswalk_polylines    = info['crosswalk']      #  list of [n,7] array [x,y,z,ori_x,ori_y,ori_z,type]\n",
    "speed_bump_polylines   = info['speed_bump']     #  list of [n,7] array [x,y,z,ori_x,ori_y,ori_z,type]\n",
    "stop_signs_polylines   = info['stop_sign']      #  list of [n,7] array [x,y,z,ori_x,ori_y,ori_z,type]\n",
    "drive_way_polylines    = info['drive_way']      #  list of [n,7] array [x,y,z,ori_x,ori_y,ori_z,type]"
   ]
  },
  {
   "cell_type": "markdown",
   "metadata": {},
   "source": [
    "We select the 11th timestep as the current timestep "
   ]
  },
  {
   "cell_type": "code",
   "execution_count": 9,
   "metadata": {},
   "outputs": [
    {
     "data": {
      "text/plain": [
       "(24, 10)"
      ]
     },
     "execution_count": 9,
     "metadata": {},
     "output_type": "execute_result"
    }
   ],
   "source": [
    "all_agent_current = all_agent_trajs[:,10]\n",
    "all_agent_current.shape"
   ]
  },
  {
   "cell_type": "code",
   "execution_count": 10,
   "metadata": {},
   "outputs": [
    {
     "data": {
      "text/plain": [
       "(24, 20, 10)"
      ]
     },
     "execution_count": 10,
     "metadata": {},
     "output_type": "execute_result"
    }
   ],
   "source": [
    "#ground truth for the future 1s,2s,3s can be easily derived by :\n",
    "predict_horizon = 20 #10,20,30\n",
    "all_gt_future=all_agent_trajs[:,11:11+predict_horizon]\n",
    "all_gt_future.shape"
   ]
  },
  {
   "cell_type": "markdown",
   "metadata": {},
   "source": [
    "Index of target agnet to preict"
   ]
  },
  {
   "cell_type": "code",
   "execution_count": 11,
   "metadata": {},
   "outputs": [
    {
     "data": {
      "text/plain": [
       "(8, 91, 10)"
      ]
     },
     "execution_count": 11,
     "metadata": {},
     "output_type": "execute_result"
    }
   ],
   "source": [
    "tracks        = info['predict_list']  \n",
    "tracks\n",
    "agents_to_predict = all_agent_trajs[tracks]\n",
    "agents_to_predict.shape\n",
    "\n",
    "#10 denotes [center_x, center_y, center_z, boundingbox_x, boundingbox_y, boundingbox_z, heading, vel_x, vel_y, valid] ]\n",
    "#the valid flag is either 0 or 1. 1 means the valid, 0 means invalid"
   ]
  },
  {
   "cell_type": "markdown",
   "metadata": {},
   "source": [
    "The homework should be done on these 8 agents."
   ]
  },
  {
   "cell_type": "markdown",
   "metadata": {},
   "source": [
    "Q1.Using constant velocity model to predict the future (1s,2s,3s) trajectories of the target agent and calculate the ADE and FDE.  "
   ]
  },
  {
   "cell_type": "code",
   "execution_count": 12,
   "metadata": {},
   "outputs": [],
   "source": [
    "# Define function to calculate ADE and FDE\n",
    "def calculate_errors(predx,predy,tracks_gt_future,predict_horizon):\n",
    "    ADEs = []\n",
    "    FDEs = []\n",
    "    distance = 0\n",
    "    for i in range(len(agents_to_predict)):\n",
    "        # initialize the distance\n",
    "        total_distance = 0.0\n",
    "\n",
    "        # Calculate the Euclidean distance between the predicted position and the ground truth position at each time step\n",
    "        for t in range(len(predx[i])):\n",
    "\n",
    "            distance = np.linalg.norm([predx[i][t] - tracks_gt_future[i][t][0], predy[i][t] - tracks_gt_future[i][t][1]])\n",
    "            total_distance += distance\n",
    "\n",
    "        # Calculate ADE\n",
    "        ADE = total_distance / predict_horizon\n",
    "        ADE_str = \"{:.8f}\".format(ADE)\n",
    "        ADEs.append(ADE_str)\n",
    "\n",
    "        # Calculate FDE\n",
    "        FDE = np.linalg.norm([predx[i][-1] - tracks_gt_future[i][-1][0], predy[i][-1] - tracks_gt_future[i][-1][1]])\n",
    "        FDE_str = \"{:.8f}\".format(FDE)\n",
    "        FDEs.append(FDE_str)\n",
    "    return ADEs, FDEs\n"
   ]
  },
  {
   "cell_type": "code",
   "execution_count": 13,
   "metadata": {},
   "outputs": [
    {
     "name": "stdout",
     "output_type": "stream",
     "text": [
      "ADE for 2.0s prediction horizon: ['0.01911305', '0.13527665', '0.19310980', '0.11951432', '0.07339844', '0.05430345', '0.06553870', '0.01828897']\n",
      "FDE for 2.0s prediction horizon: ['0.01856312', '0.26879040', '0.35412209', '0.20801483', '0.18174004', '0.07580127', '0.08833877', '0.01269311']\n",
      "\n",
      "\n"
     ]
    }
   ],
   "source": [
    "# Predict future trajectories using constant velocity model\n",
    "\n",
    "tracks_gt_future = all_gt_future[tracks]\n",
    "\n",
    "agents_to_predict = all_agent_trajs[tracks]\n",
    "\n",
    "# acquire the initial state\n",
    "lastest_positionX = agents_to_predict[:,10,0]\n",
    "lastest_positionY = agents_to_predict[:,10,1]\n",
    "\n",
    "timestep = 0.1\n",
    "# invalid flag to check the validation\n",
    "invalid = 0\n",
    "\n",
    "# predx,predy are used to save the prediction locations\n",
    "predx = [[] for _ in range(8)]\n",
    "predy = [[] for _ in range(8)]\n",
    "# newX, newY are used to save the present prediction locations in the loop\n",
    "newX = [0] * 8\n",
    "newY = [0] * 8\n",
    "# loop for each agent\n",
    "for num in range(8):\n",
    "    for t in range(predict_horizon):\n",
    "        if agents_to_predict[num, 10 + t, -1] == 1:\n",
    "            if invalid == 0:\n",
    "                newX[num] = agents_to_predict[num ,10 + t ,7] * timestep + lastest_positionX[num]\n",
    "                newY[num] = agents_to_predict[num ,10 + t ,8] * timestep + lastest_positionY[num]\n",
    "                predx[num].append(newX[num])\n",
    "                predy[num].append(newY[num])\n",
    "                # renew the new positions\n",
    "                lastest_positionX[num], lastest_positionY[num] = newX[num], newY[num]\n",
    "\n",
    "            else:\n",
    "                newX[num] = agents_to_predict[num ,10 + t - invalid ,7] * timestep * (invalid + 1) + lastest_positionX[num]\n",
    "                newY[num] = agents_to_predict[num ,10 + t - invalid ,8] * timestep * (invalid + 1) + lastest_positionY[num]\n",
    "                predx[num].append(newX[num])\n",
    "                predy[num].append(newY[num])\n",
    "                lastest_positionX[num], lastest_positionY[num] = newX[num], newY[num]\n",
    "                invalid = 0\n",
    "        else:\n",
    "            invalid += 1\n",
    "\n",
    "ADEs, FDEs = calculate_errors(predx, predy, tracks_gt_future, predict_horizon)\n",
    "\n",
    "lastest_positionX = [0] * 8\n",
    "lastest_positionY = [0] * 8\n",
    "\n",
    "# Print results\n",
    "print(f\"ADE for {predict_horizon/10}s prediction horizon:\", ADEs)\n",
    "print(f\"FDE for {predict_horizon/10}s prediction horizon:\", FDEs)\n",
    "print('\\n')"
   ]
  },
  {
   "cell_type": "markdown",
   "metadata": {},
   "source": [
    "#### Constant Velocity Model Result\n",
    "ADE for 1.0s prediction horizon: ['0.01855008', '0.07625426', '0.11207651', '0.07010401', '0.03945416', '0.04476424', '0.05458820', '0.01933917']\n",
    "\n",
    "FDE for 1.0s prediction horizon: ['0.00914143', '0.11392895', '0.18303247', '0.10324587', '0.03135093', '0.05822754', '0.06435783', '0.02153425']\n",
    "\n",
    "ADE for 2.0s prediction horizon: ['0.01911305', '0.13527665', '0.19310980', '0.11951432', '0.07339844', '0.05430345', '0.06553870', '0.01828897']\n",
    "\n",
    "FDE for 2.0s prediction horizon: ['0.01856312', '0.26879040', '0.35412209', '0.20801483', '0.18174004', '0.07580127', '0.08833877', '0.01269311']\n",
    "\n",
    "ADE for 3.0s prediction horizon: ['0.01853832', '0.23521721', '0.28616008', '0.16878053', '0.13838122', '0.06317096', '0.07150245', '0.01941382']\n",
    "\n",
    "FDE for 3.0s prediction horizon: ['0.01158061', '0.57718451', '0.55741967', '0.29914092', '0.34613529', '0.09002940', '0.07918140', '0.02856680']"
   ]
  },
  {
   "cell_type": "markdown",
   "metadata": {},
   "source": [
    "Q2.Using constant acceleration model to predict the future (1s,2s,3s) trajectories of the target agent and calculate the ADE and FDE. "
   ]
  },
  {
   "cell_type": "code",
   "execution_count": 14,
   "metadata": {},
   "outputs": [
    {
     "name": "stdout",
     "output_type": "stream",
     "text": [
      "ADE for 2.0s prediction horizon: ['0.01823819', '0.12858750', '0.18331976', '0.11394396', '0.06975866', '0.05163631', '0.06204967', '0.01737141']\n",
      "FDE for 2.0s prediction horizon: ['0.01774554', '0.25553013', '0.33623149', '0.19807822', '0.17270721', '0.07205833', '0.08351491', '0.01220816']\n",
      "\n",
      "\n"
     ]
    }
   ],
   "source": [
    "# Predict future trajectories using constant velocity model\n",
    "# for predict_horizon in {10,20,30}:\n",
    "tracks_gt_future = all_gt_future[tracks]\n",
    "agents_to_predict = all_agent_trajs[tracks]\n",
    "\n",
    "lastest_positionX = agents_to_predict[:,10,0]\n",
    "lastest_positionY = agents_to_predict[:,10,1]\n",
    "\n",
    "timestep = 0.1\n",
    "invalid = 0\n",
    "\n",
    "accelerationX = [[] for _ in range(8)]\n",
    "accelerationY = [[] for _ in range(8)]\n",
    "# make up the acceleration list\n",
    "for num in range(8):\n",
    "    accelerationX[num] = np.diff(agents_to_predict[num, 10 : 10 + predict_horizon + 1, 7])\n",
    "    accelerationY[num] = np.diff(agents_to_predict[num, 10 : 10 + predict_horizon + 1, 8])\n",
    "\n",
    "\n",
    "predx = [[] for _ in range(8)]\n",
    "predy = [[] for _ in range(8)]\n",
    "newX = [0] * 8\n",
    "newY = [0] * 8\n",
    "# loop for each agent\n",
    "for num in range(8):\n",
    "    t = 0\n",
    "    for t in range(predict_horizon):\n",
    "        if agents_to_predict[num, 10 + t, -1] == 1:\n",
    "            if invalid == 0:\n",
    "                newX[num] = agents_to_predict[num ,10 + t ,7] * timestep + lastest_positionX[num] + 0.5 * accelerationX[num][t] * (timestep ** 2)\n",
    "                newY[num] = agents_to_predict[num ,10 + t ,8] * timestep + lastest_positionY[num] + 0.5 * accelerationY[num][t] * (timestep ** 2)\n",
    "                predx[num].append(newX[num])\n",
    "                predy[num].append(newY[num])\n",
    "                lastest_positionX[num], lastest_positionY[num] = newX[num], newY[num]\n",
    "            else:\n",
    "                newX[num] = agents_to_predict[num ,10 + t - invalid ,7] * timestep * (invalid + 1) + lastest_positionX[num] + 0.5 * accelerationX[num][t] * (timestep * (invalid + 1)) ** 2\n",
    "                newY[num] = agents_to_predict[num ,10 + t - invalid ,8] * timestep * (invalid + 1) + lastest_positionY[num] + 0.5 * accelerationY[num][t] * (timestep * (invalid + 1)) ** 2\n",
    "                predx[num].append(newX[num])\n",
    "                predy[num].append(newY[num])\n",
    "                lastest_positionX[num], lastest_positionY[num] = newX[num], newY[num]\n",
    "                invalid = 0\n",
    "        else:\n",
    "            invalid += 1\n",
    "\n",
    "ADEs, FDEs = calculate_errors(predx, predy, tracks_gt_future, predict_horizon)\n",
    "\n",
    "# Print results\n",
    "print(f\"ADE for {predict_horizon/10}s prediction horizon:\", ADEs)\n",
    "print(f\"FDE for {predict_horizon/10}s prediction horizon:\", FDEs)\n",
    "print('\\n')"
   ]
  },
  {
   "cell_type": "markdown",
   "metadata": {},
   "source": [
    "#### Constant Acceleration Model Result\n",
    "ADE for 1.0s prediction horizon: ['0.01764429', '0.07241278', '0.10636568', '0.06684075', '0.03746524', '0.04254935', '0.05173001', '0.01834989']\n",
    "\n",
    "FDE for 1.0s prediction horizon: ['0.00869598', '0.10830840', '0.17377816', '0.09861034', '0.02978359', '0.05538339', '0.06088321', '0.02041051']\n",
    "\n",
    "ADE for 2.0s prediction horizon: ['0.01823819', '0.12858750', '0.18331976', '0.11394396', '0.06975866', '0.05163631', '0.06204967', '0.01737141']\n",
    "\n",
    "FDE for 2.0s prediction horizon: ['0.01774554', '0.25553013', '0.33623149', '0.19807822', '0.17270721', '0.07205833', '0.08351491', '0.01220816']\n",
    "\n",
    "\n",
    "ADE for 3.0s prediction horizon: ['0.01771143', '0.22354063', '0.27163772', '0.16077121', '0.13154264', '0.06007438', '0.06763599', '0.01850392']\n",
    "\n",
    "FDE for 3.0s prediction horizon: ['0.01135669', '0.54843435', '0.52913740', '0.28482793', '0.32911254', '0.08568001', '0.07473506', '0.02742728']"
   ]
  },
  {
   "cell_type": "markdown",
   "metadata": {},
   "source": [
    "Using Constant Turn Rate and Velocity(CTRV) model to predict the future (1s,2s,3s) trajectories of the target agent and calculate the ADE and FDE. "
   ]
  },
  {
   "cell_type": "code",
   "execution_count": 15,
   "metadata": {},
   "outputs": [
    {
     "name": "stdout",
     "output_type": "stream",
     "text": [
      "ADE for 2.0s prediction horizon: ['0.14642424', '0.78044865', '1.45017797', '0.84587506', '0.37019182', '0.38004108', '0.52654446', '0.16298146']\n",
      "FDE for 2.0s prediction horizon: ['0.29161816', '2.14419464', '3.85562840', '2.18635345', '0.94228398', '0.85300279', '1.14751881', '0.28472993']\n",
      "\n",
      "\n"
     ]
    }
   ],
   "source": [
    "# tranfer the xy acceleration to the linear and angular acceleration\n",
    "def accelerationXY_to_nt(heading_angle_current,accelerationX,accelerationY):\n",
    "    acceleration_n = accelerationX * math.sin(heading_angle_current) + accelerationY * math.cos(heading_angle_current)\n",
    "    acceleration_t = accelerationX * math.cos(heading_angle_current) + accelerationY * math.sin(heading_angle_current)\n",
    "    return acceleration_n, acceleration_t\n",
    "\n",
    "tracks_gt_future = all_gt_future[tracks]\n",
    "agents_to_predict = all_agent_trajs[tracks]\n",
    "\n",
    "# acquire the initial heading angle\n",
    "heading_angle_current = [0] * 8\n",
    "heading_angle_current[:] = np.arctan(all_agent_current[tracks,7] / all_agent_current[tracks,8])\n",
    "\n",
    "# acquire all the acceleration in the direction of X and Y\n",
    "accelerationX = [[] for _ in range(8)]\n",
    "accelerationY = [[] for _ in range(8)]\n",
    "for num in range(8):\n",
    "    accelerationX[num] = np.diff(agents_to_predict[num, 10 : 10 + predict_horizon + 1,7])\n",
    "    accelerationY[num] = np.diff(agents_to_predict[num, 10 : 10 + predict_horizon + 1,8])\n",
    "\n",
    "acceleration_n = []\n",
    "acceleration_t = []\n",
    "#initial acceleration n and t\n",
    "for num in range(8):\n",
    "    a_n = accelerationX[num][0] * np.sin(heading_angle_current[num]) + accelerationY[num][0] * np.cos(heading_angle_current[num])\n",
    "    a_t = accelerationX[num][0] * np.cos(heading_angle_current[num]) + accelerationY[num][0] * np.sin(heading_angle_current[num])\n",
    "    acceleration_n.append(a_n)\n",
    "    acceleration_t.append(a_t)\n",
    "#initial position and velocity\n",
    "lastest_positionX = agents_to_predict[:,10,0]\n",
    "lastest_positionY = agents_to_predict[:,10,1]\n",
    "lastest_velocityX = agents_to_predict[:,10,7]\n",
    "lastest_velocityY = agents_to_predict[:,10,8]\n",
    "\n",
    "#initial Angular velocity\n",
    "w = []\n",
    "w = acceleration_n / np.sqrt(lastest_velocityX**2 + lastest_velocityY**2)\n",
    "\n",
    "# initialization\n",
    "timestep = 0.1\n",
    "invalid = 0\n",
    "predx = [[] for _ in range(8)]\n",
    "predy = [[] for _ in range(8)]\n",
    "newX = [0] * 8\n",
    "newY = [0] * 8\n",
    "\n",
    "# loop for each agent\n",
    "for num in range(8):\n",
    "    for t in range(predict_horizon):\n",
    "        if agents_to_predict[num, 10 + t, -1] == 1:\n",
    "            A = math.cos(heading_angle_current[num])\n",
    "            B = math.sin(heading_angle_current[num])\n",
    "            C = math.cos(heading_angle_current[num] + w[num] * timestep)\n",
    "            D = math.sin(heading_angle_current[num] + w[num] * timestep)\n",
    "            if invalid == 0:\n",
    "                newX[num] = lastest_positionX[num] + timestep * lastest_velocityX[num] + (timestep * A / w[num] + B / w[num] ** 2 - D / w[num] ** 2) * acceleration_t[num] \n",
    "                + (A / w[num] ** 2 - timestep * B / w[num] - C / w[num] ** 2) * acceleration_n[num]\n",
    "\n",
    "                lastest_velocityX[num] = lastest_velocityX[num] + (A / w[num] - C / w[num]) * acceleration_t[num] + (D / w[num] - B / w[num]) * acceleration_n[num]\n",
    "\n",
    "                newY[num] = lastest_positionY[num] + timestep * lastest_velocityY[num] + (A / w[num]**2 - B * timestep / w[num] - C / w[num] ** 2) * acceleration_t[num]\n",
    "                + (D / w[num] ** 2 - B / w[num] ** 2 - timestep * A / w[num]) * acceleration_n[num]\n",
    "\n",
    "                lastest_velocityY[num] = lastest_velocityY[num] + (D / w[num] - B / w[num]) * acceleration_t[num] + (C / w[num] - A / w[num]) * acceleration_n[num]\n",
    "\n",
    "                predx[num].append(newX[num])\n",
    "                predy[num].append(newY[num])\n",
    "                lastest_positionX[num], lastest_positionY[num] = newX[num], newY[num]\n",
    "\n",
    "                heading_angle_current[num] = math.atan(lastest_velocityX[num] / lastest_velocityY[num])\n",
    "                acceleration_t[num], acceleration_n[num] = accelerationXY_to_nt(heading_angle_current[num], accelerationX[num][t], accelerationY[num][t])\n",
    "\n",
    "\n",
    "                w[num] = acceleration_n[num] / np.sqrt(lastest_velocityX[num] ** 2 + lastest_velocityY[num] ** 2)\n",
    "                \n",
    "            else:\n",
    "                newX[num] = lastest_positionX[num] + timestep * (invalid + 1) * lastest_velocityX[num] + (timestep * (invalid + 1) * A / w[num] + B / w[num] ** 2 - D / w[num] ** 2) * acceleration_t[num] \n",
    "                + (A / w[num] ** 2 - timestep * (invalid + 1) * B / w[num] - C / w[num] ** 2) * acceleration_n[num]\n",
    "\n",
    "                lastest_velocityX[num] = lastest_velocityX[num] + (A / w[num] - C / w[num]) * acceleration_t[num] + (D / w[num] - B / w[num]) * acceleration_n[num]\n",
    "\n",
    "                newY[num] = lastest_positionY[num] + timestep * (invalid + 1) * lastest_velocityY[num] + (A / w[num]**2 - B * timestep * (invalid + 1) / w[num] - C / w[num] ** 2) * acceleration_t[num]\n",
    "                + (D / w[num] ** 2 - B / w[num] ** 2 - timestep * (invalid + 1) * A / w[num]) * acceleration_n[num]\n",
    "\n",
    "                lastest_velocityY[num] = lastest_velocityY[num] + (D / w[num] - B / w[num]) * acceleration_t[num] + (C / w[num] - A / w[num]) * acceleration_n[num]\n",
    "\n",
    "                predx[num].append(newX[num])\n",
    "                predy[num].append(newY[num])\n",
    "                lastest_positionX[num], lastest_positionY[num] = newX[num], newY[num]\n",
    "\n",
    "                heading_angle_current[num] = math.atan(lastest_velocityX[num] / lastest_velocityY[num])\n",
    "                acceleration_t[num], acceleration_n[num] = accelerationXY_to_nt(heading_angle_current[num], accelerationX, accelerationY, num, t + invalid)\n",
    "\n",
    "                if t <= predict_horizon - 1:\n",
    "                    w[num] = acceleration_n[num] / np.sqrt(lastest_velocityX[num] ** 2 + lastest_velocityY[num] ** 2)\n",
    "                \n",
    "                invalid = 0\n",
    "        else:\n",
    "            invalid += 1\n",
    "\n",
    "ADEs, FDEs = calculate_errors(predx, predy, tracks_gt_future, predict_horizon)\n",
    "\n",
    "# Print results\n",
    "print(f\"ADE for {predict_horizon/10}s prediction horizon:\", ADEs)\n",
    "print(f\"FDE for {predict_horizon/10}s prediction horizon:\", FDEs)\n",
    "print('\\n')\n"
   ]
  },
  {
   "cell_type": "markdown",
   "metadata": {},
   "source": [
    "#### CTRV Model Result\n",
    "ADE for 1.0s prediction horizon: ['0.07161447', '0.28985375', '0.46309420', '0.27311693', '0.19619180', '0.17135041', '0.24604411', '0.08128108']\n",
    "\n",
    "FDE for 1.0s prediction horizon: ['0.13643224', '0.52418152', '1.08428132', '0.64835616', '0.30339203', '0.34137912', '0.46491065', '0.16605214']\n",
    "\n",
    "ADE for 2.0s prediction horizon: ['0.14642424', '0.78044865', '1.45017797', '0.84587506', '0.37019182', '0.38004108', '0.52654446', '0.16298146']\n",
    "\n",
    "FDE for 2.0s prediction horizon: ['0.29161816', '2.14419464', '3.85562840', '2.18635345', '0.94228398', '0.85300279', '1.14751881', '0.28472993']\n",
    "\n",
    "\n",
    "ADE for 3.0s prediction horizon: ['0.21776490', '1.90046228', '3.09152643', '1.71362117', '0.93137268', '0.66078994', '0.87272075', '0.21754978']\n",
    "\n",
    "FDE for 3.0s prediction horizon: ['0.41285143', '6.18157398', '8.77249313', '4.60695817', '3.22242035', '1.55269063', '1.91117014', '0.35637455']"
   ]
  },
  {
   "cell_type": "markdown",
   "metadata": {},
   "source": [
    "Briefly discuss the observations from your results. "
   ]
  },
  {
   "cell_type": "markdown",
   "metadata": {},
   "source": [
    "If you want to visualize the scenario here are some simple demo codes for you.\n",
    "\n",
    "    'TYPE_FREEWAY': 1,\n",
    "    'TYPE_SURFACE_STREET': 2,\n",
    "    'TYPE_BIKE_LANE': 3,\n",
    "\n",
    "    # for roadline\n",
    "    'TYPE_UNKNOWN': -1,\n",
    "    'TYPE_BROKEN_SINGLE_WHITE': 6,\n",
    "    'TYPE_SOLID_SINGLE_WHITE': 7,\n",
    "    'TYPE_SOLID_DOUBLE_WHITE': 8,\n",
    "    'TYPE_BROKEN_SINGLE_YELLOW': 9,\n",
    "    'TYPE_BROKEN_DOUBLE_YELLOW': 10,\n",
    "    'TYPE_SOLID_SINGLE_YELLOW': 11,\n",
    "    'TYPE_SOLID_DOUBLE_YELLOW': 12,\n",
    "    'TYPE_PASSING_DOUBLE_YELLOW': 13,\n",
    "\n",
    "    # for roadedge\n",
    "    'TYPE_ROAD_EDGE_BOUNDARY': 15,\n",
    "    'TYPE_ROAD_EDGE_MEDIAN': 16,\n",
    "\n",
    "    # for stopsign\n",
    "    'TYPE_STOP_SIGN': 17,\n",
    "\n",
    "    # for crosswalk\n",
    "    'TYPE_CROSSWALK': 18,\n",
    "\n",
    "    # for speed bump\n",
    "    'TYPE_SPEED_BUMP': 19,\n",
    "    \n",
    "    # for driveway\n",
    "    'TYPE_DRIVEWAY': 20,"
   ]
  },
  {
   "cell_type": "code",
   "execution_count": 16,
   "metadata": {},
   "outputs": [],
   "source": [
    "sdc_current_state = all_agent_trajs[tracks[0]][11]\n",
    "ax = plt.gca()\n",
    "fig = plt.gcf()\n",
    "fig.set_facecolor('xkcd:grey') \n",
    "ax.set_facecolor('xkcd:grey')\n",
    "for polyline in road_polylines:\n",
    "    map_type = polyline[0,6]\n",
    "    if map_type == 6:\n",
    "        plt.plot(polyline[:, 0], polyline[:, 1], 'w', linestyle='dashed', linewidth=1)\n",
    "    elif map_type == 7:\n",
    "        plt.plot(polyline[:, 0], polyline[:, 1], 'w', linestyle='solid', linewidth=1)\n",
    "    elif map_type == 8:\n",
    "        plt.plot(polyline[:, 0], polyline[:, 1], 'w', linestyle='solid', linewidth=1)\n",
    "    elif map_type == 9:\n",
    "        plt.plot(polyline[:, 0], polyline[:, 1], 'xkcd:yellow', linestyle='dashed', linewidth=1)\n",
    "    elif map_type == 10:\n",
    "        plt.plot(polyline[:, 0], polyline[:, 1], 'xkcd:yellow', linestyle='dashed', linewidth=1)\n",
    "    elif map_type == 11:\n",
    "        plt.plot(polyline[:, 0], polyline[:, 1], 'xkcd:yellow', linestyle='solid', linewidth=1)\n",
    "    elif map_type == 12:\n",
    "        plt.plot(polyline[:, 0], polyline[:, 1], 'xkcd:yellow', linestyle='solid', linewidth=1)\n",
    "    elif map_type == 13:\n",
    "        plt.plot(polyline[:, 0], polyline[:, 1], 'xkcd:yellow', linestyle='dotted', linewidth=1)\n",
    "    elif map_type == 15:\n",
    "        plt.plot(polyline[:, 0], polyline[:, 1], 'k', linewidth=1)\n",
    "    elif map_type == 16:\n",
    "        plt.plot(polyline[:, 0], polyline[:, 1], 'k', linewidth=1)\n",
    "ax.axis([-70+ sdc_current_state[0], 70+ sdc_current_state[0], -70+ sdc_current_state[1], 70 + sdc_current_state[1]])\n",
    "\n",
    "filename = './viz.png' \n",
    "plt.savefig(filename)       \n",
    "plt.close()"
   ]
  }
 ],
 "metadata": {
  "kernelspec": {
   "display_name": "DgxEnv",
   "language": "python",
   "name": "python3"
  },
  "language_info": {
   "codemirror_mode": {
    "name": "ipython",
    "version": 3
   },
   "file_extension": ".py",
   "mimetype": "text/x-python",
   "name": "python",
   "nbconvert_exporter": "python",
   "pygments_lexer": "ipython3",
   "version": "3.9.0"
  }
 },
 "nbformat": 4,
 "nbformat_minor": 2
}
