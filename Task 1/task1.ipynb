{
 "cells": [
  {
   "cell_type": "markdown",
   "metadata": {},
   "source": [
    "## ME5413: Autonomous Mobile Robot  \n",
    "\n",
    "### Homework 1: Perception  \n",
    "Due date: 22 February 2024 (Thurs) - 2359 \n"
   ]
  },
  {
   "cell_type": "markdown",
   "metadata": {},
   "source": [
    "### Task 1.1 Single-Object Tracking \n"
   ]
  },
  {
   "cell_type": "markdown",
   "metadata": {},
   "source": [
    "Using Template Matching\n"
   ]
  },
  {
   "cell_type": "code",
   "execution_count": 1,
   "metadata": {},
   "outputs": [
    {
     "name": "stdout",
     "output_type": "stream",
     "text": [
      "ground_truths_coordinate: [(173, 294), (175, 294), (173, 294), (172, 296), (172, 295), (171, 295), (173, 295), (171, 296), (171, 295), (169, 296), (171, 294), (173, 295), (172, 295), (172, 294), (174, 294), (175, 294), (175, 292), (177, 292), (178, 289), (181, 287), (184, 286), (185, 287), (185, 287), (186, 289), (186, 288), (184, 288), (184, 288), (184, 291), (183, 290), (183, 290), (184, 291), (184, 292), (182, 292), (183, 295), (182, 294), (177, 293), (180, 292), (183, 290), (188, 289), (192, 286), (222, 287), (235, 287), (251, 290), (257, 291), (263, 292), (278, 292), (285, 289), (294, 287), (313, 285), (334, 286), (345, 283), (344, 283), (353, 281), (359, 280), (369, 280), (368, 276), (407, 277), (427, 277), (419, 276), (434, 274), (446, 272), (457, 272), (465, 271), (478, 271), (501, 270), (509, 271), (511, 268), (512, 264), (509, 264), (519, 263), (530, 262), (545, 262), (551, 263), (551, 264), (554, 262), (556, 260), (559, 256), (561, 257), (568, 258), (573, 261), (575, 262), (575, 260), (572, 259), (572, 259), (572, 259), (568, 261), (561, 262), (565, 264), (560, 263), (558, 262), (559, 262), (558, 261), (559, 262), (559, 262), (566, 263), (567, 265), (568, 264), (566, 261), (564, 258), (562, 259)]\n"
     ]
    }
   ],
   "source": [
    "## put your code here\n",
    "import cv2\n",
    "import numpy as np\n",
    "import math\n",
    "# by changing the flag, you can check the output of five seq bag\n",
    "flag = 1 #1,2,3,4,5\n",
    "\n",
    "# read first_track.txt\n",
    "with open(f'../data/Task 1/seq_{flag}/firsttrack.txt', 'r') as file: \n",
    "    line = file.readline()\n",
    "    template_coordinates = [int(coord) for coord in line.split(',')]\n",
    "\n",
    "# read ground_true.txt\n",
    "with open(f'../data/Task 1/seq_{flag}/groundtruth.txt', 'r') as file:\n",
    "    ground_truths = [list(map(int, line.split(','))) for line in file]\n",
    "\n",
    "# template figure\n",
    "template_image_path = f'../data/Task 1/seq_{flag}/img/001.jpg'\n",
    "template_image = cv2.imread(template_image_path)  \n",
    "\n",
    "\n",
    "# image process\n",
    "white_threshold = 200  \n",
    "mask = cv2.inRange(template_image, (white_threshold, white_threshold, white_threshold), (255, 255, 255))\n",
    "template_image[mask == 255] = [0, 0, 0]\n",
    "\n",
    "\n",
    "x, y, w, h = template_coordinates\n",
    "template = template_image[y:y+h,x:x+w]\n",
    "\n",
    "# match result contains the (x,y) coordinates of the tracking points\n",
    "match_result = []\n",
    "\n",
    "# make template matching\n",
    "for i in range(1,101):\n",
    "    image_path = f'../data/Task 1/seq_{flag}/img/{str(i).zfill(3)}.jpg'\n",
    "    img = cv2.imread(image_path)\n",
    "\n",
    "    #image process\n",
    "    white_threshold = 200\n",
    "    mask = cv2.inRange(img, (white_threshold, white_threshold, white_threshold), (255, 255, 255))\n",
    "    img[mask == 255] = [0, 0, 0]\n",
    " \n",
    "    # doing template matching\n",
    "    result = cv2.matchTemplate(img, template, cv2.TM_CCOEFF_NORMED)\n",
    "\n",
    "    _, _, _, max_loc = cv2.minMaxLoc(result)\n",
    "\n",
    "    match_result.append(max_loc)\n",
    "\n",
    "    #ground true \n",
    "    x_g, y_g, w_g, h_g = ground_truths[i - 1]\n",
    "    #draw ground true bounding box\n",
    "    cv2.rectangle(img, (x_g, y_g), (x_g + w_g, y_g + h_g), (0, 0, 255), 2)\n",
    "\n",
    "    # # Get the width and height of the template\n",
    "    template_h, template_w, _ = template.shape\n",
    "\n",
    "    # # Draw a rectangle around the matched region\n",
    "    cv2.rectangle(img, max_loc, (max_loc[0] + template_w, max_loc[1] + template_h), (255,0,0), 2)\n",
    "\n",
    "    # # update template\n",
    "    # template = img[max_loc[1]:max_loc[1] + template_h, max_loc[0]:max_loc[0] + template_w].copy()\n",
    "\n",
    "    # Display the result\n",
    "    cv2.imshow('Result', img)\n",
    "    # save the image\n",
    "    # cv2.imwrite(f'fig_save/seq_{flag}_template/result_image{i-1}.jpg', img)\n",
    "    cv2.waitKey(200)\n",
    "    cv2.destroyAllWindows()\n",
    "    \n",
    "# print('match_result:',match_result)\n",
    "\n",
    "# match_result area contains the size of the bounding box\n",
    "match_result_area = np.array([(template_w, template_h)] * len(match_result))\n",
    "ground_truths_coordinate = [(item[0], item[1]) for item in ground_truths]\n",
    "\n",
    "# write the results to .txt file\n",
    "# output = np.hstack((match_result,match_result_area))\n",
    "# with open(f'template_output_seq{flag}.txt', 'w') as file:\n",
    "#     for item in output:\n",
    "#         file.write(f'{item[0]}, {item[1]}, {item[2]}, {item[3]}\\n')\n",
    "\n",
    "print('ground_truths_coordinate:',ground_truths_coordinate)\n"
   ]
  },
  {
   "cell_type": "markdown",
   "metadata": {},
   "source": [
    "Using Kalman Filter\n"
   ]
  },
  {
   "cell_type": "code",
   "execution_count": 2,
   "metadata": {},
   "outputs": [],
   "source": [
    "import cv2\n",
    "import numpy as np\n",
    "\n",
    "# by changing the flag, you can check the output of five seq bag\n",
    "flag = 4 #1,2,3,4,5\n",
    "\n",
    "# read first_track.txt\n",
    "with open(f'../data/Task 1/seq_{flag}/firsttrack.txt', 'r') as file:\n",
    "    line = file.readline()\n",
    "    template_coordinates = [int(coord) for coord in line.split(',')]\n",
    "\n",
    "# read ground_true\n",
    "with open(f'../data/Task 1/seq_{flag}/groundtruth.txt', 'r') as file:\n",
    "    ground_truths = [list(map(int, line.split(','))) for line in file]   # template figure\n",
    "\n",
    "template_image_path = f'../data/Task 1/seq_{flag}/img/001.jpg'\n",
    "template_image = cv2.imread(template_image_path, cv2.IMREAD_COLOR)\n",
    "x, y, w, h = template_coordinates\n",
    "template = template_image[y:y+h, x:x+w]\n",
    "\n",
    "# set Kalman Filter\n",
    "kalman = cv2.KalmanFilter(4, 2)\n",
    "kalman.measurementMatrix = np.array([[1, 0, 0, 0],\n",
    "                                     [0, 1, 0, 0]], np.float32)\n",
    "kalman.transitionMatrix = np.array([[1, 0, 1, 0],\n",
    "                                    [0, 1, 0, 1],\n",
    "                                    [0, 0, 1, 0],\n",
    "                                    [0, 0, 0, 1]], np.float32)\n",
    "kalman.processNoiseCov = np.array([[1, 0, 0, 0],\n",
    "                                   [0, 1, 0, 0],\n",
    "                                   [0, 0, 1, 0],\n",
    "                                   [0, 0, 0, 1]], np.float32) * 10\n",
    "\n",
    "# initilize the Kalman Filter state\n",
    "kalman.statePre = np.array([[x + w / 2], [y + h / 2], [0], [0]], np.float32)\n",
    "\n",
    "# match_result area contains the size of the bounding box\n",
    "match_result_area = []\n",
    "# match result contains the (x,y) coordinates of the tracking points\n",
    "match_result = []\n",
    "\n",
    "for i in range(1,101):\n",
    "    image_path = f'../data/Task 1/seq_{flag}/img/{str(i).zfill(3)}.jpg'\n",
    "    img = cv2.imread(image_path, cv2.IMREAD_COLOR)\n",
    "\n",
    "    # use Kalman Filter to predict\n",
    "    prediction = kalman.predict()\n",
    "\n",
    "    #ground true bounding box\n",
    "    x_g, y_g, w_g, h_g = ground_truths[i - 1]\n",
    "\n",
    "    cv2.rectangle(img, (x_g, y_g), (x_g + w_g, y_g + h_g), (255, 0, 0), 2)\n",
    "\n",
    "    # correct the state of Kalman Filter\n",
    "    measurement = np.array([[x_g + w_g / 2], [y_g + h_g / 2]], np.float32)\n",
    "    kalman.correct(measurement)\n",
    "\n",
    "    match_result_area.append((w_g, h_g))\n",
    "    match_result.append((int(prediction[0] - w_g / 2), int(prediction[1] - h_g / 2)))\n",
    "    \n",
    "    # draw the results\n",
    "    cv2.rectangle(img, (int(prediction[0] - w_g / 2), int(prediction[1] - h_g / 2)),\n",
    "                  (int(prediction[0] + w_g / 2), int(prediction[1] + h_g / 2)), (0, 255, 0), 2)\n",
    "    \n",
    "    # write the results to .txt file\n",
    "    # output = np.hstack((match_result,match_result_area))              \n",
    "    # with open(f'kalmanfilter_output_seq{flag}.txt', 'w') as file:\n",
    "    #     for item in output:\n",
    "    #         file.write(f'{item[0]}, {item[1]}, {item[2]}, {item[3]}\\n')\n",
    "\n",
    "    # Display the result\n",
    "    cv2.imshow('Result', img)\n",
    "    cv2.waitKey(500)\n",
    "    cv2.destroyAllWindows()\n"
   ]
  },
  {
   "cell_type": "markdown",
   "metadata": {},
   "source": [
    "Evaluate the performance of the Single object tracking algorithm."
   ]
  },
  {
   "cell_type": "markdown",
   "metadata": {},
   "source": [
    "template:\n",
    "\n",
    "\"\"\"Accuracy\"\"\" 1: 53% 2: 37% 3: 56%  4:7%   5:30%\n",
    "\n",
    "Kalman Filter:\n",
    "\n",
    "\"\"\"Accuracy\"\"\" 1: 96% 2: 98% 3: 97%  4:97%   5:96%"
   ]
  },
  {
   "cell_type": "code",
   "execution_count": 3,
   "metadata": {},
   "outputs": [
    {
     "name": "stdout",
     "output_type": "stream",
     "text": [
      "Accuracy: 97.00%\n"
     ]
    }
   ],
   "source": [
    "\"\"\"accuracy\"\"\"\n",
    "ground_truths = np.array(ground_truths)\n",
    "\n",
    "distance = [math.sqrt((x1 - x2)**2 + (y1 - y2)**2) for (x1, y1),(x2,y2) in zip(match_result,ground_truths[:,0:2])]\n",
    "\n",
    "# Define a threshold value\n",
    "threshold = 20\n",
    "\n",
    "# Count the number of accurate distances\n",
    "accurate_distances_count = sum(1 for dis in distance if dis < threshold)\n",
    "\n",
    "# Calculate accuracy\n",
    "accuracy = accurate_distances_count / len(distance)\n",
    "\n",
    "print(f'Accuracy: {accuracy * 100:.2f}%')"
   ]
  },
  {
   "cell_type": "markdown",
   "metadata": {},
   "source": [
    "template \n",
    "\n",
    "\"\"\"Success Rate\"\"\" \n",
    "1: 58.9%    2: 50.9%    3: 54.2%    4: 41.7%     5: 25.3%\n",
    "\n",
    "kalman filter\n",
    "1: 88.5%    2: 94.0%    3: 88.7%    4: 96.5%     5: 89.2%"
   ]
  },
  {
   "cell_type": "code",
   "execution_count": 4,
   "metadata": {},
   "outputs": [
    {
     "name": "stdout",
     "output_type": "stream",
     "text": [
      "overlap_success = [0.0, 0.6126456296469762, 0.8373575193038363, 0.8757984796369628, 0.9502058478829222, 0.9765921683371723, 0.9718599862731641, 0.9716751310954209, 0.9960707269155207, 0.9920948616600791, 0.9960238568588469, 0.9517865703012648, 0.9866377341251713, 1.0, 0.9958592132505176, 1.0, 0.9715951562266407, 0.9913793103448276, 0.9642857142857143, 0.9890710382513661, 0.9806159505730321, 0.9509248210023866, 0.9753124517821324, 0.9791247621636314, 0.975006913261611, 0.9831746167314345, 0.9617773943054357, 0.935106610568352, 0.9580235210474864, 0.987012987012987, 0.9695921958447813, 0.9695921958447813, 0.9676383799734103, 0.9767905832280375, 0.9681194444904242, 0.9727891156462585, 0.9717789748280652, 0.9675222986314428, 0.9659115426105718, 0.9851851851851852, 0.9855072463768116, 0.9807345611368377, 0.9951219512195122, 0.9951219512195122, 0.966460249847872, 0.98068175640166, 0.9949238578680203, 0.9665302543116048, 0.9897435897435898, 0.9617965926690759, 0.9755114230252352, 0.9667610672231332, 0.9523946085460281, 1.0, 0.989010989010989, 0.9806705505613642, 0.9808288371025141, 0.9864864864864865, 0.9753447314268131, 0.9773371104815864, 0.9883720930232558, 0.9752361699646231, 0.9867549668874173, 0.9940119760479041, 0.9812705155435413, 0.9687085041279372, 0.9877300613496932, 0.9750692520775623, 0.9503712387651426, 0.9683544303797469, 0.9808917197452229, 0.9684885724368422, 0.9933993399339934, 0.9933993399339934, 1.0, 0.9861111111111112, 1.0, 1.0, 0.9859649122807017, 1.0, 0.9809834517396063, 0.9737333391221291, 0.9925925925925926, 0.9812919092762702, 1.0, 0.9924812030075187, 0.9619463505926388, 0.980542043085476, 0.9920318725099602, 1.0, 1.0, 0.9917355371900827, 0.9917355371900827, 0.9827586206896551, 1.0, 1.0, 1.0, 0.9910714285714286, 0.9910714285714286, 0.9820627802690582]\n",
      "success rate = 0.9650307900180313\n"
     ]
    }
   ],
   "source": [
    "\"\"\"Success\"\"\"\n",
    "# Define a function to calculate overlap area between two rectangles\n",
    "def overlap_area(rect1, rect2):\n",
    "    x1, y1, w1, h1 = rect1\n",
    "    x2, y2, w2, h2 = rect2\n",
    "    \n",
    "    overlap_x1 = max(x1, x2)\n",
    "    overlap_y1 = max(y1, y2)\n",
    "    overlap_x2 = min(x1 + w1, x2 + w2)\n",
    "    overlap_y2 = min(y1 + h1, y2 + h2)\n",
    "    \n",
    "    overlap_width = max(0, overlap_x2 - overlap_x1)\n",
    "    overlap_height = max(0, overlap_y2 - overlap_y1)\n",
    "    \n",
    "    overlap_area = overlap_width * overlap_height\n",
    "    \n",
    "    return overlap_area\n",
    "\n",
    "overlap_success = []\n",
    "\n",
    "for i in range(len(ground_truths)):\n",
    "    # prediction bounding box\n",
    "    rect1 = np.hstack((match_result[i], match_result_area[i]))\n",
    "    # ground truth bounding box\n",
    "    rect2 = ground_truths[i]\n",
    "\n",
    "    area = overlap_area(rect1, rect2)\n",
    "    success = area / (rect1[2] * rect1[3] + rect2[2] * rect2[3] - area)\n",
    "    overlap_success.append(success)\n",
    "print('overlap_success =', overlap_success)\n",
    "\n",
    "Average_success_rate = np.average(overlap_success)\n",
    "print('success rate =', Average_success_rate)\n"
   ]
  },
  {
   "cell_type": "markdown",
   "metadata": {},
   "source": [
    "template\n",
    "\"\"\"P_norm\"\"\"  \n",
    "1: 0.998  2: 0.496  3: 0.491  4: 0.457  5: 2.34\n",
    "\n",
    "kalman filter\n",
    "1: 0.076  2: 0.051  3: 0.152  4: 0.034  5: 0.088"
   ]
  },
  {
   "cell_type": "code",
   "execution_count": 5,
   "metadata": {},
   "outputs": [
    {
     "name": "stdout",
     "output_type": "stream",
     "text": [
      "[2.2832833744595162, 0.20933767385043606, 0.07434304307574847, 0.05635488616870073, 0.02370296939623307, 0.008831767886456707, 0.010277609719747583, 0.01035886258173893, 0.001968503937007874, 0.003968253968253968, 0.00199203187250996, 0.01972560854440341, 0.005119219994089748, 0.0, 0.002074688796680498, 0.0, 0.011052339753636026, 0.004329004329004329, 0.01618940122642837, 0.005494505494505495, 0.006973159640077324, 0.02309518982732583, 0.008891916061165763, 0.007543104843665977, 0.009008138253057511, 0.006596383584613677, 0.014391794055645377, 0.031338873268675266, 0.019255347561542523, 0.006535947712418301, 0.013290043079135574, 0.013290043079135574, 0.0118674007891051, 0.00844735376248257, 0.014007089016317564, 0.013793103448275862, 0.010160408282529286, 0.014297209507348108, 0.01512527910756255, 0.007462686567164179, 0.0072992700729927005, 0.00769787690332115, 0.0024449877750611247, 0.0024449877750611247, 0.01481000476677977, 0.007673778548531644, 0.002544529262086514, 0.014717830327248578, 0.005154639175257732, 0.015224403557380892, 0.008889046357889651, 0.014529882808907726, 0.021906492050524383, 0.0, 0.0055248618784530384, 0.007527366232890598, 0.0074437021332746725, 0.006802721088435374, 0.008881096216201582, 0.011461318051575931, 0.005847953216374269, 0.008913049144363328, 0.006666666666666667, 0.003003003003003003, 0.0071239486599799255, 0.013254281295782981, 0.006172839506172839, 0.00895556070766203, 0.020327039627382484, 0.013297828866332418, 0.00720848981403557, 0.013162173831103654, 0.0033112582781456954, 0.0033112582781456954, 0.0, 0.006993006993006993, 0.0, 0.0, 0.007067137809187279, 0.0, 0.007016339937530583, 0.00950216688369189, 0.0037174721189591076, 0.006864538663637619, 0.0, 0.0037735849056603774, 0.01407258710248463, 0.007085093988148792, 0.004, 0.0, 0.0, 0.004149377593360996, 0.004149377593360996, 0.008695652173913044, 0.0, 0.0, 0.0, 0.004484304932735426, 0.004484304932735426, 0.00904977375565611]\n",
      "P_norm = 0.034024130817634356\n"
     ]
    }
   ],
   "source": [
    "\"\"\"P_norm\"\"\"\n",
    "ground_truths = np.array(ground_truths)\n",
    "distance = [math.sqrt(((x1 - x2)/template_width)**2 + ((y1 - y2)/template_height)**2) \n",
    "            for (x1, y1),(x2, y2),(template_width,template_height) in zip(match_result,ground_truths[:,0:2],match_result_area)]\n",
    "print(distance)\n",
    "P_norm = np.average(distance)\n",
    "print('P_norm =', P_norm)"
   ]
  },
  {
   "cell_type": "markdown",
   "metadata": {},
   "source": [
    "\n",
    "Visualise the results as well. \n"
   ]
  },
  {
   "cell_type": "code",
   "execution_count": 6,
   "metadata": {},
   "outputs": [],
   "source": [
    "## the visualisation of the results is shown above by cv2.imshow()"
   ]
  },
  {
   "cell_type": "markdown",
   "metadata": {},
   "source": [
    "Propose Improvements to the work if possible:"
   ]
  },
  {
   "cell_type": "markdown",
   "metadata": {},
   "source": []
  }
 ],
 "metadata": {
  "kernelspec": {
   "display_name": "python3.9",
   "language": "python",
   "name": "python3"
  },
  "language_info": {
   "codemirror_mode": {
    "name": "ipython",
    "version": 3
   },
   "file_extension": ".py",
   "mimetype": "text/x-python",
   "name": "python",
   "nbconvert_exporter": "python",
   "pygments_lexer": "ipython3",
   "version": "3.9.18"
  }
 },
 "nbformat": 4,
 "nbformat_minor": 2
}
